{
 "cells": [
  {
   "cell_type": "markdown",
   "metadata": {},
   "source": [
    "# Bonus Material: Objects/Classes\n",
    " "
   ]
  },
  {
   "cell_type": "markdown",
   "metadata": {},
   "source": [
    "We have seen lots of \"data types\" in Python so far.  They are useful for a plethora of varied but common tasks.  \n",
    "But what if we want to make our own \"data type\"?  What would that involve?  \n",
    "As it turns out, Python (and lots of other recent programming languages) support creation of custom \"data holders\", aka objects. Thoughtful use of objects allows us to encapsulate data and functions, and delegate tasks to our objects in a way that saves programming time while also making our code more readable and understandable.   \n",
    "Programming designed this way is called Object Oriented Programming (OOP)."
   ]
  },
  {
   "cell_type": "markdown",
   "metadata": {},
   "source": [
    "Imagine a physical holder for data, for example a file cabinet.  This file cabinet holds data (i.e. files or individual pieces of paper), and can do things with that data (e.g. it protects them, offers a place to alphabetize the files, you could lock the file cabinet, etc).\n",
    "\n",
    "Alternately, imagine a refrigerator.  It holds data, in this case, food.  But,  since we have control of the functionality of the refrigerator, we could design an incredibly smart/capable/magic refrigerator.  We can put in our food items, e.g. lettuce and tomato and carrots, and we could give it instructions on how to make a salad with those ingredients (using its robot arms and/or magic abilities).  Then, when we want a salad, instead of having to re-tell the refrigerator how to make it, or making it ourselves, we could just use the \"make_salad\" function (aka method, for the function of an object) and we'd have a delicious salad."
   ]
  },
  {
   "cell_type": "markdown",
   "metadata": {},
   "source": [
    "Objects: hold data and can do things to/with that data.\n",
    "The data that objects hold are called attributes, and the things that can be done with those attributes are called methods (i.e., functions of objects)."
   ]
  },
  {
   "cell_type": "code",
   "execution_count": 3,
   "metadata": {},
   "outputs": [],
   "source": [
    "#Let's build a simple object together.\n",
    "#How about a \"point\" on the Cartesian (x-y) plane.\n",
    "\n",
    "class point(): #all object definitions begin with 'class'\n",
    "    #and inside the parentheses can go whatever object it inherits\n",
    "    def __init__(self, x_in, y_in):\n",
    "        pass #let's write this together in class\n",
    "        self.x = None\n",
    "        self.y = None\n",
    "    \n",
    "    def change_x(self, new_x):\n",
    "        pass\n",
    "    \n",
    "    def change_y(self, new_y):\n",
    "        pass\n",
    "    \n",
    "    def dist_to_origin(self):\n",
    "        pass\n",
    "    \n",
    "    def dist_to_point(self, point_b):\n",
    "        pass\n",
    "    \n",
    "#Now let's test it.\n"
   ]
  },
  {
   "cell_type": "code",
   "execution_count": 2,
   "metadata": {},
   "outputs": [
    {
     "name": "stdout",
     "output_type": "stream",
     "text": [
      "Fluffy\n",
      "Fluffy\n",
      "Woof, meow Hello moo, chirp\n",
      "Woof, meow  moo, chirp\n",
      "I am 0, my happiness is 100, and my fullness is 0.\n",
      "I am 0, my happiness is 140, and my fullness is 30.\n",
      "about to take a long walk\n",
      "I am at 0 -9 0 .\n",
      "I am at -9 -4 0 .\n",
      "I am at -8 -1 0 .\n",
      "I am at -12 -4 -10 .\n",
      "I am at -22 5 -12 .\n",
      "I am at -20 0 -16 .\n",
      "I am at -17 -6 -19 .\n",
      "I am at -23 4 -26 .\n",
      "I am at -29 -1 -18 .\n",
      "I am at -36 -8 -13 .\n"
     ]
    }
   ],
   "source": [
    "#Here is a more elaborate \"pet\" class definition.\n",
    "class pet():\n",
    "    def __init__(self,nameIn='Default'):\n",
    "        self.name=nameIn\n",
    "        self.age=0\n",
    "        self.happiness=100\n",
    "        self.fullness=0\n",
    "        self.xpos=0\n",
    "        self.ypos=0\n",
    "        self.zpos=0\n",
    "\n",
    "    def sayName(self):\n",
    "        print(self.name)\n",
    "\n",
    "    def speak(self,textIn=\"\"):\n",
    "        print(\"Woof, meow\",textIn,\"moo, chirp\")\n",
    "\n",
    "    def eat(self,nutrition=0,satisfaction=0):\n",
    "        self.fullness = self.fullness + nutrition\n",
    "        self.happiness = self.happiness + satisfaction\n",
    "\n",
    "    def howAreYou(self):\n",
    "        print(\"I am\",str(self.age)+\", my happiness is\",str(self.happiness)+ \", and my fullness is\",str(self.fullness)+\".\")\n",
    "\n",
    "    def wander(self,zup=False,zdown=False):\n",
    "        import random\n",
    "        xchg=random.randrange(-10,11)\n",
    "        ychg=random.randrange(-10,11)\n",
    "        zchg=random.randrange(-10,11)\n",
    "        dist=(xchg**2 + ychg**2 + zchg**2)**(1/2)\n",
    "        self.fullness = self.fullness - dist\n",
    "\n",
    "        self.xpos=self.xpos+xchg\n",
    "        self.ypos=self.ypos+ychg\n",
    "        if(zup == True and zdown == True):\n",
    "            self.zpos = self.zpos+zchg\n",
    "        elif(zup==True):\n",
    "            self.zpos = max(self.zpos+zchg,0)\n",
    "        elif(zdown==True):\n",
    "            self.zpos = min(self.zpos+zchg,0)\n",
    "\n",
    "    def whereIs(self):\n",
    "        print(\"I am at\",self.xpos,self.ypos,self.zpos,\".\")\n",
    "\n",
    "\n",
    "myPet=pet(\"Fluffy\")\n",
    "print(myPet.name)\n",
    "#myPet2=pet()\n",
    "#print(myPet2.name)\n",
    "myPet.sayName()\n",
    "myPet.speak(\"Hello\")\n",
    "myPet.speak()\n",
    "myPet.howAreYou()\n",
    "myPet.eat(30,40)\n",
    "myPet.howAreYou()\n",
    "print(\"about to take a long walk\")\n",
    "for i in range(10):\n",
    "    myPet.wander(zdown=True)\n",
    "    myPet.whereIs()"
   ]
  },
  {
   "cell_type": "code",
   "execution_count": null,
   "metadata": {},
   "outputs": [],
   "source": []
  },
  {
   "cell_type": "code",
   "execution_count": 11,
   "metadata": {},
   "outputs": [],
   "source": [
    "#Describe a stack\n",
    "#data holder/ a way of organizing hings \n",
    "#with the following in/out property:\n",
    "#First in Last out -FILO or LIFO \n",
    "#Stack Terminology:\n",
    "#to add an item to stack is to \"push\" it onto the stack \n",
    "# to remove an object from a stack is to \"pop\"  the stack\n",
    "# to examine the top item of the stack is to  \"peep\" the stack\n",
    "\n",
    "#infix notation is when the + is in between the 1 and 2\n",
    "#this is seen when u see try to find the sum of two numbers in a caluclator with standard functionality\n",
    "# instead of 1+2 = there are other ways like 1, enter, 2, + in a specific calc this would give same result \n",
    "# yet another way! prefix : +, 1, enter, 2, \n",
    "#consider this post fix ! 1,2,3, +, - \n",
    "# that is really just 1-(2+3)= -4 \n",
    "\n",
    "#rules; if you see a number put it on a stack if \n",
    "# u see an operation, pop two numbers, operate on them and push result\n",
    "# try to evaulate this post fix expression : 5, 6, +, 3, +, 7, /\n",
    "# 5 + 6 + (3/7)\n",
    "\n",
    "\n",
    "#note a stack has a lot in common with a list!\n",
    "#Let's implement a stack OBJECT - (example usage of stack - postfix notation)\n",
    "#Objects are data containers that hold data and can do functions with/to\n",
    "#that data.  They can be customized to your needs!\n",
    "\n",
    "class stack():\n",
    "    def __init__(self):\n",
    "        self.data=[]\n",
    "        \n",
    "    def push(self, value_in):\n",
    "        self.data.append(value_in)\n",
    "        \n",
    "    def pop(self):\n",
    "        if(len(self.data)==0):\n",
    "            print('Warning, empty stack')\n",
    "            return None\n",
    "        else:\n",
    "            return self.data.pop()\n",
    "         \n",
    "    def peek(self):\n",
    "        if(len(self.data)==0):\n",
    "            print('Warning, empty stack')\n",
    "            return None\n",
    "        else:\n",
    "            return self.data[-1]"
   ]
  },
  {
   "cell_type": "code",
   "execution_count": 12,
   "metadata": {},
   "outputs": [],
   "source": [
    "mystack=stack()\n",
    "#creates a new stack "
   ]
  },
  {
   "cell_type": "code",
   "execution_count": 13,
   "metadata": {},
   "outputs": [],
   "source": [
    "mystack.push('hello')"
   ]
  },
  {
   "cell_type": "code",
   "execution_count": 14,
   "metadata": {},
   "outputs": [
    {
     "name": "stdout",
     "output_type": "stream",
     "text": [
      "hello\n"
     ]
    }
   ],
   "source": [
    "print(mystack.peek())"
   ]
  },
  {
   "cell_type": "code",
   "execution_count": 15,
   "metadata": {},
   "outputs": [],
   "source": [
    "#Try to use the stack\n",
    "mystring=mystack.pop()"
   ]
  },
  {
   "cell_type": "code",
   "execution_count": 16,
   "metadata": {},
   "outputs": [
    {
     "name": "stdout",
     "output_type": "stream",
     "text": [
      "hello\n"
     ]
    }
   ],
   "source": [
    "print(mystring)"
   ]
  },
  {
   "cell_type": "code",
   "execution_count": 17,
   "metadata": {},
   "outputs": [
    {
     "name": "stdout",
     "output_type": "stream",
     "text": [
      "Warning, empty stack\n",
      "None\n"
     ]
    }
   ],
   "source": [
    "print(mystack.peek())"
   ]
  },
  {
   "cell_type": "code",
   "execution_count": 18,
   "metadata": {},
   "outputs": [
    {
     "name": "stdout",
     "output_type": "stream",
     "text": [
      "Warning, empty stack\n"
     ]
    }
   ],
   "source": [
    "x=mystack.pop()"
   ]
  },
  {
   "cell_type": "code",
   "execution_count": 19,
   "metadata": {},
   "outputs": [
    {
     "name": "stdout",
     "output_type": "stream",
     "text": [
      "None\n"
     ]
    }
   ],
   "source": [
    "print(x)"
   ]
  },
  {
   "cell_type": "code",
   "execution_count": 20,
   "metadata": {},
   "outputs": [
    {
     "name": "stdout",
     "output_type": "stream",
     "text": [
      "you can't see me\n"
     ]
    }
   ],
   "source": [
    "mystack.push(\"you can't see me\")\n",
    "mystack.push('I am on top')\n",
    "bottomOfStack=mystack.data[0] \n",
    "print(bottomOfStack)\n",
    "#So, Python allows access to data held within an object - \n",
    "#this is different philosophy than some other languages"
   ]
  },
  {
   "cell_type": "markdown",
   "metadata": {},
   "source": [
    "# Queue Project  \n",
    "Queues are data holders that have a First In First Out (FIFO) ordering.  They have a front and a back.  Their functions include enqueue (put something in at the back) and dequeue (remove the front thing).\n",
    "They can be implemented using a list, like a stack...but we have something more fun in mind.  Let's build them using nodes! They could be built using a 1-d node, but we will use 2-directional (ahead/behind) nodes to make things a little faster.\n",
    "\n"
   ]
  },
  {
   "cell_type": "code",
   "execution_count": 7,
   "metadata": {},
   "outputs": [],
   "source": [
    "#2-direction ahead/behind node\n",
    "class node2():\n",
    "    def __init__(self,data_in):\n",
    "        self.payload=data_in\n",
    "        self.ahead=None\n",
    "        self.behind=None"
   ]
  },
  {
   "cell_type": "code",
   "execution_count": 8,
   "metadata": {},
   "outputs": [],
   "source": [
    "#a queue structure, based on 2-directional nodes\n",
    "#\"fix\" the following definition everywhere there is the phrase FIX_HERE\n",
    "class queue():\n",
    "    def __init__(self):\n",
    "        self.front=new_node #what should front and back be initialized to?\n",
    "        self.back=new_node  #How about a value that represents \"Nothing\" in Python?\n",
    "    def enqueue(self, data_in):\n",
    "        new_node=node2(data_in) #Make a new node, pass it the payload it should hold\n",
    "        if(self.front==None):\n",
    "            self.front=FIX_HERE #What should front and back be set to, if\n",
    "            self.back=None #front is currently None?\n",
    "        else:\n",
    "            self.back.behind=new_node #set the current back of the q to new_node\n",
    "            new_node.ahead=self.back #Then the new_node should point ahead to what?\n",
    "            self.back=new_node  #after that, what should the updated back be?\n",
    "            \n",
    "    def dequeue(self):\n",
    "        if(self.front!=None):\n",
    "            return_value=self.payload #what payload do we want to return?\n",
    "        else:\n",
    "            print(\"  Warning, dequeueing an empty queue  \")\n",
    "            return None\n",
    "        \n",
    "        self.front=self.front.behind #set new front to the node behind the old front\n",
    "        if(self.front!=None):\n",
    "            self.front.ahead=None#make the new front point to Python's \"Nothing\"\n",
    "        else:\n",
    "            self.back=None #if self.front IS None, then what should self.back\n",
    "                               # also become?\n",
    "        return return_value #Time to return the return payload we recorded earlier\n",
    "            "
   ]
  },
  {
   "cell_type": "code",
   "execution_count": 10,
   "metadata": {},
   "outputs": [
    {
     "name": "stdout",
     "output_type": "stream",
     "text": [
      "1\n",
      "2\n",
      "3\n",
      "4\n",
      "5\n",
      "  Warning, dequeueing an empty queue  \n",
      "None\n"
     ]
    }
   ],
   "source": [
    "#Here is some Test Driven Development to try out your work!\n",
    "#What is Test Driven Development, you ask?\n",
    "myq=queue()\n",
    "myq.enqueue(1)\n",
    "myq.enqueue(2)\n",
    "myq.enqueue(3)\n",
    "myq.enqueue(4)\n",
    "myq.enqueue(5)\n",
    "print(myq.dequeue())\n",
    "print(myq.dequeue())\n",
    "print(myq.dequeue())\n",
    "#print(myq.front,myq.back)\n",
    "print(myq.dequeue())\n",
    "#print(myq.front,myq.back)\n",
    "print(myq.dequeue())\n",
    "#print(myq.front,myq.back)\n",
    "print(myq.dequeue())"
   ]
  },
  {
   "cell_type": "code",
   "execution_count": null,
   "metadata": {},
   "outputs": [],
   "source": [
    "class pet ():\n",
    "    def _init_(self, nameIn = \"default\"):\n",
    "        self.name=nameIn\n",
    "        self.age=0 \n",
    "        self.happiness=100\n",
    "        self.fullness=0\n",
    "        self.xpos=0\n",
    "        self.ypos=0\n",
    "        self.zpos=0\n",
    "        self.gender= genderIn\n",
    "    def sayName(self):\n",
    "        print(self.name)\n",
    "        \n",
    "    def speak (self, textIn =\"\"):\n",
    "        print ('woof, meow,', textIn , 'moo, chirp') \n",
    "        \n",
    "    def newMethod (self):\n",
    "        print ( )"
   ]
  }
 ],
 "metadata": {
  "kernelspec": {
   "display_name": "Python 3",
   "language": "python",
   "name": "python3"
  },
  "language_info": {
   "codemirror_mode": {
    "name": "ipython",
    "version": 3
   },
   "file_extension": ".py",
   "mimetype": "text/x-python",
   "name": "python",
   "nbconvert_exporter": "python",
   "pygments_lexer": "ipython3",
   "version": "3.8.3"
  }
 },
 "nbformat": 4,
 "nbformat_minor": 4
}
